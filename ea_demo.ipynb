{
 "cells": [
  {
   "cell_type": "markdown",
   "metadata": {},
   "source": [
    "# Optimizing Prompts with **Automatic Prompt Engineer** (APE)\n",
    "\n",
    "This notebook demonstrates how to use Automatic Prompt Engineer (APE) (arxiv link) to optimize prompts for text generation. In its simplest form, APE takes as input a dataset (a list of inputs and a list of outputs), a prompt template, and optimizes this prompt template so that it generates the outputs given the inputs.\n",
    "\n",
    "APE accomplishes this in two steps. First, it uses a language model to generate a set of candidate prompts. Then, it uses a prompt evaluation function to evaluate the quality of each candidate prompt. Finally, it returns the prompt with the highest evaluation score."
   ]
  },
  {
   "cell_type": "code",
   "execution_count": 1,
   "metadata": {},
   "outputs": [],
   "source": [
    "# First, let's define a simple dataset consisting of words and their antonyms.\n",
    "words = [\"sane\", \"direct\", \"informally\", \"unpopular\", \"subtractive\", \"nonresidential\",\n",
    "    \"inexact\", \"uptown\", \"incomparable\", \"powerful\", \"gaseous\", \"evenly\", \"formality\",\n",
    "    \"deliberately\", \"off\"]\n",
    "antonyms = [\"insane\", \"indirect\", \"formally\", \"popular\", \"additive\", \"residential\",\n",
    "    \"exact\", \"downtown\", \"comparable\", \"powerless\", \"solid\", \"unevenly\", \"informality\",\n",
    "    \"accidentally\", \"on\"]"
   ]
  },
  {
   "cell_type": "code",
   "execution_count": 2,
   "metadata": {},
   "outputs": [],
   "source": [
    "# Now, we need to define the format of the prompt that we are using.\n",
    "\n",
    "eval_template = \\\n",
    "\"\"\"Instruction: [PROMPT]\n",
    "Input: [INPUT]\n",
    "Output: [OUTPUT]\"\"\""
   ]
  },
  {
   "cell_type": "code",
   "execution_count": 3,
   "metadata": {},
   "outputs": [
    {
     "name": "stdout",
     "output_type": "stream",
     "text": [
      "Generating prompts...\n",
      "[GPT_forward] Generating 50 completions, split into 1 batches of size 5000\n"
     ]
    },
    {
     "name": "stderr",
     "output_type": "stream",
     "text": [
      "100%|████████████████████████████████████████████████████████████████████████████████████████████████████████████████████████████████████████████████████████████████████████████████████████████████████████████████████████████████████████████████████████████████████████████████████████████| 1/1 [00:01<00:00,  1.24s/it]\n"
     ]
    },
    {
     "name": "stdout",
     "output_type": "stream",
     "text": [
      "Model returned 50 prompts. Deduplicating...\n",
      "Deduplicated to 50 prompts.\n",
      "First 3 prompts: Output: pythony\n",
      "Output: informality\n",
      "Output: get into his dream\n",
      "\n",
      "Evaluating prompts... ea\n",
      "ea\n"
     ]
    },
    {
     "name": "stderr",
     "output_type": "stream",
     "text": [
      "Evaluating prompts: 100%|██████████████████████████████████████████████████████████████████████████████████████████████████████████████████████████████████████████████████████████████████████████████████████████████████████████████████████████████████████████████████████████████████████| 5/5 [00:00<00:00, 2520.62it/s]\n"
     ]
    },
    {
     "name": "stdout",
     "output_type": "stream",
     "text": [
      "50 50 50 !!!!!\n",
      "child Output: informals original purpose Output: avert itity\n",
      "mutate Output: informals original purpose Output: avert itity\n",
      "child Output: informality Output: use their hands to hit them\n",
      "mutate Output: informality Output: use their hands to hit them\n",
      "child Output: pythony Output: instruct a friend to send a flier.\n",
      "mutate Output: pythony Output: instruct a friend to send a flier.\n",
      "child Output: get into his dream Output: use their hands to hit them\n",
      "mutate Output: get into his dream Output: use their hands to hit them\n",
      "child Output: get into his dream Output: informal\n",
      "mutate Output: get into his dream Output: informal\n",
      "50 50 50 !!!!!\n",
      "child Output: unassemble Output: sane\n",
      "mutate Output: unassemble Output: sane\n",
      "child Output: to be ht a friend to send a flier. Output: instruconest\n",
      "mutate Output: to be ht a friend to send a flier. Output: instruconest\n",
      "child Output: unassemble Output: pythony\n",
      "mutate Output: unassemble Output: pythony\n",
      "child Output: go out there with no one Output: pythony\n",
      "mutate Output: go out there with no one Output: pythony\n",
      "child Output: be abley Output: unevenl to read a book\n",
      "mutate Output: be abley Output: unevenl to read a book\n",
      "50 50 50 !!!!!\n",
      "child Output: send an email Output: have the friend done something for him.\n",
      "mutate Output: send an email Output: have the friend done something for him.\n",
      "child Output: be able to read a book Output: pythony\n",
      "mutate Output: be able to read a book Output: pythony\n",
      "child Output: to learn new things Output: informality\n",
      "mutate Output: to learn new things Output: informality\n",
      "child Output: float Output: instruct a friend to send a flier.\n",
      "mutate Output: float Output: instruct a friend to send a flier.\n",
      "child Output: make Output: pythony\n",
      "mutate Output: make Output: pythony\n",
      "50 50 50 !!!!!\n",
      "child Output: evenly Output: be able to read a book\n",
      "mutate Output: evenly Output: be ab?e to read a book\n",
      "child Output: make Output: be a form of self-regulation\n",
      "mutate Output: make Output: be a form of self-regulation\n",
      "child Output: be able to read a book Output: evenly\n",
      "mutate Output: be able to read a book Output: evenly\n",
      "child Output: None Output: instruct a friend to send a flier.\n",
      "mutate Output: None Output: instruct a friend to send a flier.\n",
      "child Output: unassemble Output: pythony\n",
      "mutate Output: unassemble Output: pythony\n",
      "50 50 50 !!!!!\n",
      "child Output: find different things Output: get into his dream\n",
      "mutate Output: find different things Output: get into his dream\n",
      "child Output: be a form of self-regulation Output: informality\n",
      "mutate Output: be a form of self-regulation Output: informality\n",
      "child Output: find differe dream Output: get into hisnt things\n",
      "mutate Output: find differe dream Output: get into hisnt things\n",
      "child Output: be a form of ds to hit them Output: use their hanself-regulation\n",
      "mutate Output: be a form of ds to hit them Output: use their hanself-regulation\n",
      "child Output: be specific Output: help out the friend\n",
      "mutate Output: be specific Output: help out the friend\n",
      "evolution algorithm\n",
      "1111\n",
      "child Output: evenly Output: None\n",
      "mutate Output: evenly Output: None\n",
      "child Output: to leaatible Output: incomprn new things\n",
      "mutate Output: to leaatible Output: incomprn Iew things\n",
      "child Output: help out the friend Output: go to the gym.\n",
      "mutate Output: help out the friend Output: go to the gym.\n",
      "child Output: informality Output: sane\n",
      "mutate Output: informality Output: sane\n",
      "child Output: None Output: go up the stairs\n",
      "mutate Output: Nonn Output: go up the stairs\n",
      "Finished evaluating.\n"
     ]
    }
   ],
   "source": [
    "# Now, let's use APE to find prompts that generate antonyms for each word.\n",
    "from automatic_prompt_engineer import ape\n",
    "\n",
    "results = ape.eape(\n",
    "    dataset=(words, antonyms),\n",
    "    eval_template=eval_template,\n",
    ")"
   ]
  },
  {
   "cell_type": "markdown",
   "metadata": {},
   "source": [
    "Let's compare with a prompt written by a human:\n",
    "\n",
    "\"*Write an antonym to the following word.*\""
   ]
  },
  {
   "cell_type": "code",
   "execution_count": 9,
   "metadata": {},
   "outputs": [
    {
     "name": "stdout",
     "output_type": "stream",
     "text": [
      "ea\n"
     ]
    },
    {
     "name": "stderr",
     "output_type": "stream",
     "text": [
      "Evaluating prompts:   0%|                                                                                                                                                                 | 0/5 [00:00<?, ?it/s]"
     ]
    },
    {
     "name": "stdout",
     "output_type": "stream",
     "text": [
      "1 1 1 !!!!!\n"
     ]
    },
    {
     "name": "stderr",
     "output_type": "stream",
     "text": [
      "\n"
     ]
    },
    {
     "ename": "IndexError",
     "evalue": "list index out of range",
     "output_type": "error",
     "traceback": [
      "\u001b[0;31m---------------------------------------------------------------------------\u001b[0m",
      "\u001b[0;31mIndexError\u001b[0m                                Traceback (most recent call last)",
      "Cell \u001b[0;32mIn[9], line 5\u001b[0m\n\u001b[1;32m      1\u001b[0m \u001b[39mfrom\u001b[39;00m \u001b[39mautomatic_prompt_engineer\u001b[39;00m \u001b[39mimport\u001b[39;00m ape\n\u001b[1;32m      3\u001b[0m manual_prompt \u001b[39m=\u001b[39m \u001b[39m\"\u001b[39m\u001b[39mWrite an antonym to the following word.\u001b[39m\u001b[39m\"\u001b[39m\n\u001b[0;32m----> 5\u001b[0m human_result \u001b[39m=\u001b[39m ape\u001b[39m.\u001b[39;49msimple_eval(\n\u001b[1;32m      6\u001b[0m     dataset\u001b[39m=\u001b[39;49m(words, antonyms),\n\u001b[1;32m      7\u001b[0m     eval_template\u001b[39m=\u001b[39;49meval_template,\n\u001b[1;32m      8\u001b[0m     prompts\u001b[39m=\u001b[39;49m[manual_prompt],\n\u001b[1;32m      9\u001b[0m )\n",
      "File \u001b[0;32m~/prompt_evo/automatic_prompt_engineer/automatic_prompt_engineer/ape.py:120\u001b[0m, in \u001b[0;36msimple_eval\u001b[0;34m(dataset, prompts, eval_template, demos_template, eval_model, num_samples)\u001b[0m\n\u001b[1;32m    117\u001b[0m conf[\u001b[39m'\u001b[39m\u001b[39mevaluation\u001b[39m\u001b[39m'\u001b[39m][\u001b[39m'\u001b[39m\u001b[39mbase_eval_config\u001b[39m\u001b[39m'\u001b[39m][\u001b[39m'\u001b[39m\u001b[39mmodel\u001b[39m\u001b[39m'\u001b[39m][\u001b[39m'\u001b[39m\u001b[39mgpt_config\u001b[39m\u001b[39m'\u001b[39m][\u001b[39m'\u001b[39m\u001b[39mmodel\u001b[39m\u001b[39m'\u001b[39m] \u001b[39m=\u001b[39m eval_model\n\u001b[1;32m    118\u001b[0m conf[\u001b[39m'\u001b[39m\u001b[39mevaluation\u001b[39m\u001b[39m'\u001b[39m][\u001b[39m'\u001b[39m\u001b[39mnum_samples\u001b[39m\u001b[39m'\u001b[39m] \u001b[39m=\u001b[39m \u001b[39mmin\u001b[39m(\u001b[39mlen\u001b[39m(dataset[\u001b[39m0\u001b[39m]), num_samples)\n\u001b[0;32m--> 120\u001b[0m res \u001b[39m=\u001b[39m evaluate\u001b[39m.\u001b[39;49mevalute_prompts(\n\u001b[1;32m    121\u001b[0m     prompts, eval_template, dataset, demos_template, dataset, conf[\u001b[39m'\u001b[39;49m\u001b[39mevaluation\u001b[39;49m\u001b[39m'\u001b[39;49m][\u001b[39m'\u001b[39;49m\u001b[39mmethod\u001b[39;49m\u001b[39m'\u001b[39;49m], conf[\u001b[39m'\u001b[39;49m\u001b[39mevaluation\u001b[39;49m\u001b[39m'\u001b[39;49m])\n\u001b[1;32m    122\u001b[0m \u001b[39mreturn\u001b[39;00m res\n",
      "File \u001b[0;32m~/prompt_evo/automatic_prompt_engineer/automatic_prompt_engineer/evaluate.py:44\u001b[0m, in \u001b[0;36mevalute_prompts\u001b[0;34m(prompts, eval_template, eval_data, demos_template, few_shot_data, eval_method, config)\u001b[0m\n\u001b[1;32m     42\u001b[0m \u001b[39mprint\u001b[39m(eval_method)\n\u001b[1;32m     43\u001b[0m eval_method \u001b[39m=\u001b[39m get_eval_method(eval_method)\n\u001b[0;32m---> 44\u001b[0m \u001b[39mreturn\u001b[39;00m eval_method(prompts, eval_template, eval_data, demos_template, few_shot_data, config)\n",
      "File \u001b[0;32m~/prompt_evo/automatic_prompt_engineer/automatic_prompt_engineer/evaluation/ea.py:36\u001b[0m, in \u001b[0;36mea_evaluator\u001b[0;34m(prompts, eval_template, eval_data, demos_template, few_shot_data, config)\u001b[0m\n\u001b[1;32m     34\u001b[0m \u001b[39mfor\u001b[39;00m i \u001b[39min\u001b[39;00m \u001b[39mrange\u001b[39m(\u001b[39m5\u001b[39m):\n\u001b[1;32m     35\u001b[0m     parent1,parent2\u001b[39m=\u001b[39m tournament_selection(prompts, ea_algo\u001b[39m.\u001b[39mscores, \u001b[39m2\u001b[39m)\n\u001b[0;32m---> 36\u001b[0m     child1,child2\u001b[39m=\u001b[39mcrossover_prompts(prompts[parent1], prompts[parent2], crossover_rate\u001b[39m=\u001b[39m\u001b[39m0.5\u001b[39m)\n\u001b[1;32m     37\u001b[0m     \u001b[39mprint\u001b[39m(\u001b[39m'\u001b[39m\u001b[39mchild\u001b[39m\u001b[39m'\u001b[39m,child1,child2)\n\u001b[1;32m     38\u001b[0m     child1\u001b[39m=\u001b[39mmutate_prompt(child1)\n",
      "\u001b[0;31mIndexError\u001b[0m: list index out of range"
     ]
    }
   ],
   "source": [
    "from automatic_prompt_engineer import ape\n",
    "\n",
    "manual_prompt = \"Write an antonym to the following word.\"\n",
    "\n",
    "human_result = ape.simple_eval(\n",
    "    dataset=(words, antonyms),\n",
    "    eval_template=eval_template,\n",
    "    prompts=[manual_prompt],\n",
    ")"
   ]
  },
  {
   "cell_type": "code",
   "execution_count": null,
   "metadata": {},
   "outputs": [],
   "source": [
    "print(human_result)"
   ]
  },
  {
   "cell_type": "code",
   "execution_count": null,
   "metadata": {},
   "outputs": [],
   "source": []
  }
 ],
 "metadata": {
  "kernelspec": {
   "display_name": "Python 3.8.8 ('py38')",
   "language": "python",
   "name": "python3"
  },
  "language_info": {
   "codemirror_mode": {
    "name": "ipython",
    "version": 3
   },
   "file_extension": ".py",
   "mimetype": "text/x-python",
   "name": "python",
   "nbconvert_exporter": "python",
   "pygments_lexer": "ipython3",
   "version": "3.10.9"
  },
  "orig_nbformat": 4,
  "vscode": {
   "interpreter": {
    "hash": "c2afcb7a2e6fcb9490d448e607abf9226c3f7acca28baeea9bc24b456562037f"
   }
  }
 },
 "nbformat": 4,
 "nbformat_minor": 2
}
