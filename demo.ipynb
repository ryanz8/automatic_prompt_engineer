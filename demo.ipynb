{
 "cells": [
  {
   "cell_type": "markdown",
   "metadata": {},
   "source": [
    "# Optimizing Prompts with **Automatic Prompt Engineer** (APE)\n",
    "\n",
    "This notebook demonstrates how to use Automatic Prompt Engineer (APE) (arxiv link) to optimize prompts for text generation. In its simplest form, APE takes as input a dataset (a list of inputs and a list of outputs), a prompt template, and optimizes this prompt template so that it generates the outputs given the inputs.\n",
    "\n",
    "APE accomplishes this in two steps. First, it uses a language model to generate a set of candidate prompts. Then, it uses a prompt evaluation function to evaluate the quality of each candidate prompt. Finally, it returns the prompt with the highest evaluation score."
   ]
  },
  {
   "cell_type": "code",
   "execution_count": 1,
   "metadata": {},
   "outputs": [],
   "source": [
    "# First, let's define a simple dataset consisting of words and their antonyms.\n",
    "words = [\"sane\", \"direct\", \"informally\", \"unpopular\", \"subtractive\", \"nonresidential\",\n",
    "    \"inexact\", \"uptown\", \"incomparable\", \"powerful\", \"gaseous\", \"evenly\", \"formality\",\n",
    "    \"deliberately\", \"off\"]\n",
    "antonyms = [\"insane\", \"indirect\", \"formally\", \"popular\", \"additive\", \"residential\",\n",
    "    \"exact\", \"downtown\", \"comparable\", \"powerless\", \"solid\", \"unevenly\", \"informality\",\n",
    "    \"accidentally\", \"on\"]"
   ]
  },
  {
   "cell_type": "code",
   "execution_count": 2,
   "metadata": {},
   "outputs": [],
   "source": [
    "# Now, we need to define the format of the prompt that we are using.\n",
    "\n",
    "eval_template = \\\n",
    "\"\"\"Instruction: [PROMPT]\n",
    "Input: [INPUT]\n",
    "Output: [OUTPUT]\"\"\""
   ]
  },
  {
   "cell_type": "code",
   "execution_count": 3,
   "metadata": {},
   "outputs": [
    {
     "name": "stdout",
     "output_type": "stream",
     "text": [
      "Generating prompts...\n",
      "[GPT_forward] Generating 50 completions, split into 1 batches of size 2000\n"
     ]
    },
    {
     "name": "stderr",
     "output_type": "stream",
     "text": [
      "100%|████████████████████████████████████████████████████████████████████████████████████████████████████████████████████████████████████████████████████████████████████████████████████████████████████████████████████████████████████████████████████████████████████████████████████████████| 1/1 [00:01<00:00,  1.70s/it]\n"
     ]
    },
    {
     "name": "stdout",
     "output_type": "stream",
     "text": [
      "Model returned 50 prompts. Deduplicating...\n",
      "Deduplicated to 45 prompts.\n",
      "Evaluating prompts...\n",
      "bandits\n"
     ]
    },
    {
     "name": "stderr",
     "output_type": "stream",
     "text": [
      "Evaluating prompts:  15%|██████████████████████████████████████                                                                                                                                                                                                                        | 3/20 [10:47:25<61:08:45, 12948.57s/it]\n"
     ]
    },
    {
     "ename": "ZeroDivisionError",
     "evalue": "division by zero",
     "output_type": "error",
     "traceback": [
      "\u001b[0;31m---------------------------------------------------------------------------\u001b[0m",
      "\u001b[0;31mZeroDivisionError\u001b[0m                         Traceback (most recent call last)",
      "Cell \u001b[0;32mIn[3], line 4\u001b[0m\n\u001b[1;32m      1\u001b[0m \u001b[39m# Now, let's use APE to find prompts that generate antonyms for each word.\u001b[39;00m\n\u001b[1;32m      2\u001b[0m \u001b[39mfrom\u001b[39;00m \u001b[39mautomatic_prompt_engineer\u001b[39;00m \u001b[39mimport\u001b[39;00m ape\n\u001b[0;32m----> 4\u001b[0m result, demo_fn \u001b[39m=\u001b[39m ape\u001b[39m.\u001b[39;49msimple_ape(\n\u001b[1;32m      5\u001b[0m     dataset\u001b[39m=\u001b[39;49m(words, antonyms),\n\u001b[1;32m      6\u001b[0m     eval_template\u001b[39m=\u001b[39;49meval_template,\n\u001b[1;32m      7\u001b[0m     eval_model\u001b[39m=\u001b[39;49m\u001b[39m'\u001b[39;49m\u001b[39mgoogle/flan-t5-small\u001b[39;49m\u001b[39m'\u001b[39;49m,\n\u001b[1;32m      8\u001b[0m     prompt_gen_model\u001b[39m=\u001b[39;49m\u001b[39m'\u001b[39;49m\u001b[39mgoogle/flan-t5-small\u001b[39;49m\u001b[39m'\u001b[39;49m,\n\u001b[1;32m      9\u001b[0m )\n",
      "File \u001b[0;32m~/prompt_evo/automatic_prompt_engineer/automatic_prompt_engineer/ape.py:53\u001b[0m, in \u001b[0;36msimple_ape\u001b[0;34m(dataset, eval_template, prompt_gen_template, demos_template, eval_model, prompt_gen_model, prompt_gen_mode, num_prompts, eval_rounds, prompt_gen_batch_size, eval_batch_size)\u001b[0m\n\u001b[1;32m     49\u001b[0m prompt_gen_template \u001b[39m=\u001b[39m get_simple_prompt_gen_template(\n\u001b[1;32m     50\u001b[0m     prompt_gen_template, prompt_gen_mode)\n\u001b[1;32m     51\u001b[0m conf \u001b[39m=\u001b[39m config\u001b[39m.\u001b[39msimple_config(\n\u001b[1;32m     52\u001b[0m     eval_model, prompt_gen_model, prompt_gen_mode, num_prompts, eval_rounds, prompt_gen_batch_size, eval_batch_size)\n\u001b[0;32m---> 53\u001b[0m \u001b[39mreturn\u001b[39;00m find_prompts(eval_template, demos_template, dataset, dataset, conf, prompt_gen_template\u001b[39m=\u001b[39;49mprompt_gen_template)\n",
      "File \u001b[0;32m~/prompt_evo/automatic_prompt_engineer/automatic_prompt_engineer/ape.py:190\u001b[0m, in \u001b[0;36mfind_prompts\u001b[0;34m(eval_template, demos_template, prompt_gen_data, eval_data, conf, base_conf, few_shot_data, prompt_gen_template)\u001b[0m\n\u001b[1;32m    186\u001b[0m \u001b[39mprint\u001b[39m(\u001b[39m'\u001b[39m\u001b[39mDeduplicated to \u001b[39m\u001b[39m{}\u001b[39;00m\u001b[39m prompts.\u001b[39m\u001b[39m'\u001b[39m\u001b[39m.\u001b[39mformat(\u001b[39mlen\u001b[39m(prompts)))\n\u001b[1;32m    188\u001b[0m \u001b[39mprint\u001b[39m(\u001b[39m'\u001b[39m\u001b[39mEvaluating prompts...\u001b[39m\u001b[39m'\u001b[39m)\n\u001b[0;32m--> 190\u001b[0m res \u001b[39m=\u001b[39m evaluate\u001b[39m.\u001b[39;49mevalute_prompts(prompts, eval_template, eval_data, demos_template, few_shot_data,\n\u001b[1;32m    191\u001b[0m                                conf[\u001b[39m'\u001b[39;49m\u001b[39mevaluation\u001b[39;49m\u001b[39m'\u001b[39;49m][\u001b[39m'\u001b[39;49m\u001b[39mmethod\u001b[39;49m\u001b[39m'\u001b[39;49m], conf[\u001b[39m'\u001b[39;49m\u001b[39mevaluation\u001b[39;49m\u001b[39m'\u001b[39;49m])\n\u001b[1;32m    193\u001b[0m \u001b[39mprint\u001b[39m(\u001b[39m'\u001b[39m\u001b[39mFinished evaluating.\u001b[39m\u001b[39m'\u001b[39m)\n\u001b[1;32m    195\u001b[0m demo_fn \u001b[39m=\u001b[39m evaluate\u001b[39m.\u001b[39mdemo_function(eval_template, conf[\u001b[39m'\u001b[39m\u001b[39mdemo\u001b[39m\u001b[39m'\u001b[39m])\n",
      "File \u001b[0;32m~/prompt_evo/automatic_prompt_engineer/automatic_prompt_engineer/evaluate.py:44\u001b[0m, in \u001b[0;36mevalute_prompts\u001b[0;34m(prompts, eval_template, eval_data, demos_template, few_shot_data, eval_method, config)\u001b[0m\n\u001b[1;32m     42\u001b[0m \u001b[39mprint\u001b[39m(eval_method)\n\u001b[1;32m     43\u001b[0m eval_method \u001b[39m=\u001b[39m get_eval_method(eval_method)\n\u001b[0;32m---> 44\u001b[0m \u001b[39mreturn\u001b[39;00m eval_method(prompts, eval_template, eval_data, demos_template, few_shot_data, config)\n",
      "File \u001b[0;32m~/prompt_evo/automatic_prompt_engineer/automatic_prompt_engineer/evaluation/bandits.py:26\u001b[0m, in \u001b[0;36mbandits_evaluator\u001b[0;34m(prompts, eval_template, eval_data, demos_template, few_shot_data, config)\u001b[0m\n\u001b[1;32m     24\u001b[0m sampled_prompts \u001b[39m=\u001b[39m [prompts[i] \u001b[39mfor\u001b[39;00m i \u001b[39min\u001b[39;00m sampled_prompts_idx]\n\u001b[1;32m     25\u001b[0m \u001b[39m# Evaluate the sampled prompts\u001b[39;00m\n\u001b[0;32m---> 26\u001b[0m sampled_eval_results \u001b[39m=\u001b[39m base_eval_method(\n\u001b[1;32m     27\u001b[0m     sampled_prompts, eval_template, eval_data, demos_template, few_shot_data, config[\u001b[39m'\u001b[39;49m\u001b[39mbase_eval_config\u001b[39;49m\u001b[39m'\u001b[39;49m])\n\u001b[1;32m     28\u001b[0m _, scores \u001b[39m=\u001b[39m sampled_eval_results\u001b[39m.\u001b[39min_place(method\u001b[39m=\u001b[39m\u001b[39m'\u001b[39m\u001b[39mmean\u001b[39m\u001b[39m'\u001b[39m)\n\u001b[1;32m     29\u001b[0m \u001b[39m# Update the bandit algorithm\u001b[39;00m\n",
      "File \u001b[0;32m~/prompt_evo/automatic_prompt_engineer/automatic_prompt_engineer/evaluation/likelihood.py:67\u001b[0m, in \u001b[0;36mlikelihood_evaluator\u001b[0;34m(prompts, eval_template, eval_data, demos_template, few_shot_data, config)\u001b[0m\n\u001b[1;32m     64\u001b[0m \u001b[39melse\u001b[39;00m:\n\u001b[1;32m     65\u001b[0m     log_probs, _ \u001b[39m=\u001b[39m model\u001b[39m.\u001b[39mlog_probs(queries, output_indices)\n\u001b[0;32m---> 67\u001b[0m res \u001b[39m=\u001b[39m LikelihoodEvaluationResult(prompts, log_probs, config[\u001b[39m'\u001b[39;49m\u001b[39mnum_samples\u001b[39;49m\u001b[39m'\u001b[39;49m])\n\u001b[1;32m     69\u001b[0m \u001b[39mreturn\u001b[39;00m res\n",
      "File \u001b[0;32m~/prompt_evo/automatic_prompt_engineer/automatic_prompt_engineer/evaluation/likelihood.py:81\u001b[0m, in \u001b[0;36mLikelihoodEvaluationResult.__init__\u001b[0;34m(self, prompts, log_probs, num_samples)\u001b[0m\n\u001b[1;32m     79\u001b[0m \u001b[39mself\u001b[39m\u001b[39m.\u001b[39mprompts \u001b[39m=\u001b[39m prompts\n\u001b[1;32m     80\u001b[0m \u001b[39mself\u001b[39m\u001b[39m.\u001b[39mlog_probs \u001b[39m=\u001b[39m log_probs\n\u001b[0;32m---> 81\u001b[0m \u001b[39mself\u001b[39m\u001b[39m.\u001b[39mprompt_log_probs \u001b[39m=\u001b[39m \u001b[39mself\u001b[39;49m\u001b[39m.\u001b[39;49m_compute_avg_likelihood(\n\u001b[1;32m     82\u001b[0m     prompts, log_probs, num_samples)\n",
      "File \u001b[0;32m~/prompt_evo/automatic_prompt_engineer/automatic_prompt_engineer/evaluation/likelihood.py:91\u001b[0m, in \u001b[0;36mLikelihoodEvaluationResult._compute_avg_likelihood\u001b[0;34m(self, prompts, log_probs, num_samples)\u001b[0m\n\u001b[1;32m     89\u001b[0m     \u001b[39mfor\u001b[39;00m _ \u001b[39min\u001b[39;00m \u001b[39mrange\u001b[39m(num_samples):\n\u001b[1;32m     90\u001b[0m         lps \u001b[39m=\u001b[39m log_probs[i]\n\u001b[0;32m---> 91\u001b[0m         prompt_log_probs[\u001b[39m-\u001b[39m\u001b[39m1\u001b[39m]\u001b[39m.\u001b[39mappend(\u001b[39msum\u001b[39;49m(lps) \u001b[39m/\u001b[39;49m \u001b[39mlen\u001b[39;49m(lps))\n\u001b[1;32m     92\u001b[0m         i \u001b[39m+\u001b[39m\u001b[39m=\u001b[39m \u001b[39m1\u001b[39m\n\u001b[1;32m     93\u001b[0m \u001b[39mreturn\u001b[39;00m prompt_log_probs\n",
      "\u001b[0;31mZeroDivisionError\u001b[0m: division by zero"
     ]
    }
   ],
   "source": [
    "# Now, let's use APE to find prompts that generate antonyms for each word.\n",
    "from automatic_prompt_engineer import ape\n",
    "\n",
    "result, demo_fn = ape.simple_ape(\n",
    "    dataset=(words, antonyms),\n",
    "    eval_template=eval_template,\n",
    "    eval_model='google/flan-t5-small',\n",
    "    prompt_gen_model='google/flan-t5-small',\n",
    ")"
   ]
  },
  {
   "cell_type": "code",
   "execution_count": null,
   "metadata": {},
   "outputs": [],
   "source": [
    "# Let's see the results.\n",
    "print(result)"
   ]
  },
  {
   "cell_type": "markdown",
   "metadata": {},
   "source": [
    "Let's compare with a prompt written by a human:\n",
    "\n",
    "\"*Write an antonym to the following word.*\""
   ]
  },
  {
   "cell_type": "code",
   "execution_count": null,
   "metadata": {},
   "outputs": [],
   "source": [
    "from automatic_prompt_engineer import ape\n",
    "\n",
    "manual_prompt = \"Write an antonym to the following word.\"\n",
    "\n",
    "human_result = ape.simple_eval(\n",
    "    dataset=(words, antonyms),\n",
    "    eval_template=eval_template,\n",
    "    prompts=[manual_prompt],\n",
    ")"
   ]
  },
  {
   "cell_type": "code",
   "execution_count": null,
   "metadata": {},
   "outputs": [],
   "source": [
    "print(human_result)"
   ]
  },
  {
   "cell_type": "code",
   "execution_count": null,
   "metadata": {},
   "outputs": [],
   "source": []
  }
 ],
 "metadata": {
  "kernelspec": {
   "display_name": "Python 3.8.8 ('py38')",
   "language": "python",
   "name": "python3"
  },
  "language_info": {
   "codemirror_mode": {
    "name": "ipython",
    "version": 3
   },
   "file_extension": ".py",
   "mimetype": "text/x-python",
   "name": "python",
   "nbconvert_exporter": "python",
   "pygments_lexer": "ipython3",
   "version": "3.10.9"
  },
  "orig_nbformat": 4,
  "vscode": {
   "interpreter": {
    "hash": "c2afcb7a2e6fcb9490d448e607abf9226c3f7acca28baeea9bc24b456562037f"
   }
  }
 },
 "nbformat": 4,
 "nbformat_minor": 2
}
