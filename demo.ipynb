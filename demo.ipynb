{
 "cells": [
  {
   "cell_type": "markdown",
   "metadata": {},
   "source": [
    "# Optimizing Prompts with **Automatic Prompt Engineer** (APE)\n",
    "\n",
    "This notebook demonstrates how to use Automatic Prompt Engineer (APE) (arxiv link) to optimize prompts for text generation. In its simplest form, APE takes as input a dataset (a list of inputs and a list of outputs), a prompt template, and optimizes this prompt template so that it generates the outputs given the inputs.\n",
    "\n",
    "APE accomplishes this in two steps. First, it uses a language model to generate a set of candidate prompts. Then, it uses a prompt evaluation function to evaluate the quality of each candidate prompt. Finally, it returns the prompt with the highest evaluation score."
   ]
  },
  {
   "cell_type": "code",
   "execution_count": 1,
   "metadata": {},
   "outputs": [],
   "source": [
    "# First, let's define a simple dataset consisting of words and their antonyms.\n",
    "words = [\"sane\", \"direct\", \"informally\", \"unpopular\", \"subtractive\", \"nonresidential\",\n",
    "    \"inexact\", \"uptown\", \"incomparable\", \"powerful\", \"gaseous\", \"evenly\", \"formality\",\n",
    "    \"deliberately\", \"off\"]\n",
    "antonyms = [\"insane\", \"indirect\", \"formally\", \"popular\", \"additive\", \"residential\",\n",
    "    \"exact\", \"downtown\", \"comparable\", \"powerless\", \"solid\", \"unevenly\", \"informality\",\n",
    "    \"accidentally\", \"on\"]"
   ]
  },
  {
   "cell_type": "code",
   "execution_count": 2,
   "metadata": {},
   "outputs": [],
   "source": [
    "# Now, we need to define the format of the prompt that we are using.\n",
    "\n",
    "eval_template = \\\n",
    "\"\"\"Instruction: [PROMPT]\n",
    "Input: [INPUT]\n",
    "Output: [OUTPUT]\"\"\""
   ]
  },
  {
   "cell_type": "code",
   "execution_count": 3,
   "metadata": {},
   "outputs": [
    {
     "name": "stdout",
     "output_type": "stream",
     "text": [
      "go gind ea!\n",
      "Generating prompts...\n",
      "[GPT_forward] Generating 150 completions, split into 1 batches of size 15000\n"
     ]
    },
    {
     "name": "stderr",
     "output_type": "stream",
     "text": [
      "100%|█████████████████████████████████████████████████████████████████████████████████████████████████████████████████████████████████████████████████████████████████████████████| 1/1 [00:27<00:00, 27.24s/it]\n"
     ]
    },
    {
     "name": "stdout",
     "output_type": "stream",
     "text": [
      "Model returned 50 prompts. Deduplicating...\n",
      "Deduplicated to 13 prompts.\n",
      "First prompt:  reverse the order of the words in the input.\n",
      "Evaluating prompts... ea\n",
      "ea\n"
     ]
    },
    {
     "name": "stderr",
     "output_type": "stream",
     "text": [
      "Evaluating prompts: 100%|███████████████████████████████████████████████████████████████████████████████████████████████████████████████████████████████████████████████████████| 5/5 [00:00<00:00, 1906.68it/s]"
     ]
    },
    {
     "name": "stdout",
     "output_type": "stream",
     "text": [
      "13 13 13 !!!!!\n",
      "? 20 13 [0, 4]\n",
      "? 20 13 [7, 12]\n",
      "child  reverse the input-output pairs.  reverse the order of the words in the input.\n",
      "mutate  reverse the input-output pairs.  reverse the order of the words in the input.\n",
      "? 20 13 [4, 2]\n",
      "? 20 13 [6, 4]\n",
      "child  produce the opposite of the input.  reverse the input-output pairs.\n",
      "mutate  produce the opposite of the input.  reverse the input-output pairs.\n",
      "? 20 13 [8, 12]\n",
      "? 20 13 [2, 8]\n",
      "child  reverse the word.  find words that have the opposite meaning.\n",
      "mutate  reverse the word.  find words that have the opposite meaning.\n",
      "? 20 13 [0, 9]\n",
      "? 20 13 [5, 2]\n",
      "child  reverse the order output pairs.  reverse the input-of the words in the input.\n",
      "mutate  reverse the order output pairs.  reverse the input-of the words in the input.\n",
      "? 20 13 [6, 9]\n",
      "? 20 13 [6, 1]\n",
      "child  reverse the order of the letters in each word.  reverse the order of the letters in each word.\n",
      "mutate  reverse the order of the letters in each word.  reverse the order of the letters in each word.\n",
      "13 13 13 !!!!!\n",
      "? 20 13 [7, 10]\n",
      "? 20 13 [12, 9]\n",
      "child  reverse the word.  reverse the order of the letters in each word.\n",
      "mutate  reverse the word.  reverse the order of the letters in each word.\n",
      "? 20 13 [11, 8]\n",
      "? 20 13 [0, 6]\n",
      "child  reverse the woder of the words in the input.  reverse the orrd.\n",
      "mutate  reverse the woder of the words in the input.  reverse the orrd.\n",
      "? 20 13 [0, 2]\n",
      "? 20 13 [3, 10]\n",
      "child  produce the opposite of the input.  reverse the order of the words in the input.\n",
      "mutate  pQoduce the opposite of the input.  reverse the order of the words in the input.\n",
      "? 20 13 [8, 3]\n",
      "? 20 13 [6, 7]\n",
      "child  reverse the worer output pairs.  reverse the ordd.\n",
      "mutate  reverse the worer output pairs.  reverse the ordd.\n",
      "? 20 13 [5, 11]\n",
      "? 20 13 [7, 5]\n",
      "child  reverse the word.  reverse the input-of the words in the input.\n",
      "mutate  reverse the word.  reverse the input-of the words in the input.\n",
      "13 13 13 !!!!!\n",
      "? 20 13 [9, 5]\n",
      "? 20 13 [11, 12]\n",
      "child  reverse the word.  reverse the worer output pairs.\n",
      "mutate  reverse the word.  reverse the worer output pairs.\n",
      "? 20 13 [7, 6]\n",
      "? 20 13 [6, 7]\n",
      "child  reverse the worer output pairs.  reverse the order of the words in the input.\n",
      "mutate  reverse the worer output pairs.  reverse the order of the words in the input.\n",
      "? 20 13 [7, 0]\n",
      "? 20 13 [0, 9]\n",
      "child  reverse the word.  reverse the order of the words in the input.\n",
      "mutate  reverse the word.  reverse the order of the words in the input.\n",
      "? 20 13 [0, 6]\n",
      "? 20 13 [12, 5]\n",
      "child  reverse the order of the words in the input.  reverse the input-output pairs.\n",
      "mutate  reFerse the order of the words in the input.  reverse the input-output pairs.\n",
      "? 20 13 [8, 4]\n",
      "? 20 13 [9, 3]\n",
      "child  reverse the order of the words in the input.  reverse the worer output pairs.\n",
      "mutate  reverse the order of the words in the input.  reverse the wurer output pairs.\n",
      "13 13 13 !!!!!\n",
      "? 20 13 [9, 11]\n",
      "? 20 13 [9, 6]\n",
      "child  reverse the order of the words in the input.  reverse the order of the words in the input.\n",
      "mutate  reverse the order of the words in the input.  reverse the order of the words in the input.\n",
      "? 20 13 [5, 7]\n",
      "? 20 13 [3, 4]\n",
      "child  reverse the ordd.  reverse the order of the words in the input.\n",
      "mutate  reverse the ordd.  reverse the order of the words in the input.\n",
      "? 20 13 [0, 1]\n",
      "? 20 13 [6, 0]\n",
      "child  reverse the order of the words in the input.  reverse the input-output pairs.\n",
      "mutate  reverse the order of the words in the input.  reverse the input-output pair;.\n",
      "? 20 13 [8, 0]\n",
      "? 20 13 [3, 11]\n",
      "child  reverse the order of the words.  reverse the worer output pairs in the input.\n",
      "mutate  reverse the order af the words.  reverse the worer output pairs in the input.\n",
      "? 20 13 [4, 2]\n",
      "? 20 13 [12, 4]\n",
      "child  reverse the ordd.  reverse the order af the words.\n",
      "mutate  reverse the ordd.  reverse the order af the words.\n",
      "13 13 13 !!!!!\n",
      "? 20 13 [12, 10]\n",
      "? 20 13 [0, 7]\n",
      "child  reverse the onput-output pairs.  reverse the irder af the words.\n",
      "mutate  reverse the onput-output pairs.  reverse the irder af the words.\n",
      "? 20 13 [1, 7]\n",
      "? 20 13 [12, 2]\n",
      "child  reverse the word.  reverse the irder af the words.\n",
      "mutate  reverse the word.  reverse the irder af the words.\n",
      "? 20 13 [3, 5]\n",
      "? 20 13 [2, 5]\n",
      "child  reverse the order of the words in the input.  reverse the order of the words in the input.\n",
      "mutate  reverse the order of the words in the input.  reverse the order of the words in the input.\n",
      "? 20 13 [7, 11]\n",
      "? 20 13 [6, 12]\n",
      "child  reverse the ordd.  reverse the onput-output pairs.\n",
      "mutate  reverse the ordd.  reverse the onput-output pairs.\n",
      "? 20 13 [9, 11]\n",
      "? 20 13 [0, 2]\n",
      "child  reverse the order of the words in the input.  reverse the word.\n",
      "mutate  reverse the order of the words in the input.  reverse the word.\n",
      "Finished evaluating.\n"
     ]
    },
    {
     "name": "stderr",
     "output_type": "stream",
     "text": [
      "\n"
     ]
    }
   ],
   "source": [
    "# Now, let's use APE to find prompts that generate antonyms for each word.\n",
    "from automatic_prompt_engineer import ape\n",
    "\n",
    "results = ape.simple_ape(\n",
    "    dataset=(words, antonyms),\n",
    "    eval_template=eval_template,\n",
    ")"
   ]
  },
  {
   "cell_type": "code",
   "execution_count": null,
   "metadata": {},
   "outputs": [],
   "source": [
    "results"
   ]
  },
  {
   "cell_type": "code",
   "execution_count": null,
   "metadata": {},
   "outputs": [],
   "source": [
    "# Let's see the results.\n",
    "print(result)"
   ]
  },
  {
   "cell_type": "markdown",
   "metadata": {},
   "source": [
    "Let's compare with a prompt written by a human:\n",
    "\n",
    "\"*Write an antonym to the following word.*\""
   ]
  },
  {
   "cell_type": "code",
   "execution_count": null,
   "metadata": {},
   "outputs": [],
   "source": [
    "from automatic_prompt_engineer import ape\n",
    "\n",
    "manual_prompt = \"Write an antonym to the following word.\"\n",
    "\n",
    "human_result = ape.simple_eval(\n",
    "    dataset=(words, antonyms),\n",
    "    eval_template=eval_template,\n",
    "    prompts=[manual_prompt],\n",
    ")"
   ]
  },
  {
   "cell_type": "code",
   "execution_count": null,
   "metadata": {},
   "outputs": [],
   "source": [
    "print(human_result)"
   ]
  },
  {
   "cell_type": "code",
   "execution_count": null,
   "metadata": {},
   "outputs": [],
   "source": []
  }
 ],
 "metadata": {
  "kernelspec": {
   "display_name": "Python 3.8.8 ('py38')",
   "language": "python",
   "name": "python3"
  },
  "language_info": {
   "codemirror_mode": {
    "name": "ipython",
    "version": 3
   },
   "file_extension": ".py",
   "mimetype": "text/x-python",
   "name": "python",
   "nbconvert_exporter": "python",
   "pygments_lexer": "ipython3",
   "version": "3.10.9"
  },
  "orig_nbformat": 4,
  "vscode": {
   "interpreter": {
    "hash": "c2afcb7a2e6fcb9490d448e607abf9226c3f7acca28baeea9bc24b456562037f"
   }
  }
 },
 "nbformat": 4,
 "nbformat_minor": 2
}
